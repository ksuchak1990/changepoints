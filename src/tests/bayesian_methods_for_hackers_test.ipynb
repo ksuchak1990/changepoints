{
 "cells": [
  {
   "cell_type": "markdown",
   "metadata": {},
   "source": [
    "# BM4H"
   ]
  },
  {
   "cell_type": "markdown",
   "metadata": {},
   "source": [
    "This is a notebook to try something like what they did in [Bayesian Methods for Hackers](https://github.com/CamDavidsonPilon/Probabilistic-Programming-and-Bayesian-Methods-for-Hackers/blob/master/Chapter1_Introduction/Ch1_Introduction_PyMC3.ipynb)."
   ]
  },
  {
   "cell_type": "markdown",
   "metadata": {},
   "source": [
    "## Imports"
   ]
  },
  {
   "cell_type": "code",
   "execution_count": 1,
   "metadata": {},
   "outputs": [],
   "source": [
    "import matplotlib.pyplot as plt\n",
    "import numpy as np\n",
    "import pandas as pd"
   ]
  },
  {
   "cell_type": "code",
   "execution_count": 2,
   "metadata": {},
   "outputs": [],
   "source": [
    "%matplotlib inline"
   ]
  },
  {
   "cell_type": "markdown",
   "metadata": {},
   "source": [
    "## Making data"
   ]
  },
  {
   "cell_type": "markdown",
   "metadata": {},
   "source": [
    "Just to get things started, I'm going to construct two series of data.\n",
    "Each of these series will be sampled from a respective Poisson distribution, each with different rate, $\\lambda$.\n",
    "The two datasets will then be spliced together."
   ]
  },
  {
   "cell_type": "code",
   "execution_count": 51,
   "metadata": {},
   "outputs": [],
   "source": [
    "# Constants\n",
    "RATE_A = 10\n",
    "RATE_B = 50\n",
    "LENGTH_A = 50\n",
    "LENGTH_B = 50"
   ]
  },
  {
   "cell_type": "code",
   "execution_count": 52,
   "metadata": {},
   "outputs": [],
   "source": [
    "# Derived values\n",
    "START_A = 0\n",
    "END_A = START_A + LENGTH_A\n",
    "START_B = LENGTH_A\n",
    "END_B = START_B + LENGTH_B"
   ]
  },
  {
   "cell_type": "code",
   "execution_count": 53,
   "metadata": {},
   "outputs": [],
   "source": [
    "def generate_data(rate, start, end):\n",
    "    \"\"\"\n",
    "    A function to generate some data based on a Poisson distribution.\n",
    "    Params:\n",
    "        rate: the rate, lambda for the Poisson distribution.\n",
    "        start: the start point for the data.\n",
    "        end: the end point for the data.\n",
    "    Returns:\n",
    "        dataframe: a dat array of Poisson distributed samples.\n",
    "    \"\"\"\n",
    "    data = pd.DataFrame()\n",
    "    data['day'] = np.arange(start, end)\n",
    "    data['vals'] = np.random.poisson(rate, end-start)\n",
    "    return data"
   ]
  },
  {
   "cell_type": "code",
   "execution_count": 54,
   "metadata": {},
   "outputs": [],
   "source": [
    "part_a = generate_data(RATE_A, START_A, END_A)"
   ]
  },
  {
   "cell_type": "code",
   "execution_count": 62,
   "metadata": {},
   "outputs": [],
   "source": [
    "def plot_data(data):\n",
    "    \"\"\"\n",
    "    A quick function to plot the data with the appropriate labels.\n",
    "    \"\"\"\n",
    "    plt.figure(figsize=(8,8))\n",
    "    plt.bar(data['day'], data['vals'])\n",
    "    plt.xlabel('day')\n",
    "    plt.ylabel('value')\n",
    "    plt.show()"
   ]
  },
  {
   "cell_type": "code",
   "execution_count": 63,
   "metadata": {},
   "outputs": [
    {
     "data": {
      "image/png": "[encoded data removed]",
      "text/plain": [
       "<Figure size 576x576 with 1 Axes>"
      ]
     },
     "metadata": {
      "needs_background": "light"
     },
     "output_type": "display_data"
    }
   ],
   "source": [
    "plot_data(part_a)"
   ]
  },
  {
   "cell_type": "code",
   "execution_count": 56,
   "metadata": {},
   "outputs": [],
   "source": [
    "part_b = generate_data(RATE_B, START_B, END_B)"
   ]
  },
  {
   "cell_type": "code",
   "execution_count": 64,
   "metadata": {},
   "outputs": [
    {
     "data": {
      "image/png": "[encoded data removed]",
      "text/plain": [
       "<Figure size 576x576 with 1 Axes>"
      ]
     },
     "metadata": {
      "needs_background": "light"
     },
     "output_type": "display_data"
    }
   ],
   "source": [
    "plot_data(part_b)"
   ]
  },
  {
   "cell_type": "code",
   "execution_count": 65,
   "metadata": {},
   "outputs": [],
   "source": [
    "data = pd.concat([part_a, part_b])"
   ]
  },
  {
   "cell_type": "code",
   "execution_count": 66,
   "metadata": {},
   "outputs": [
    {
     "data": {
      "image/png": "[encoded data removed]",
      "text/plain": [
       "<Figure size 576x576 with 1 Axes>"
      ]
     },
     "metadata": {
      "needs_background": "light"
     },
     "output_type": "display_data"
    }
   ],
   "source": [
    "plot_data(data)"
   ]
  },
  {
   "cell_type": "markdown",
   "metadata": {},
   "source": [
    "Ok, so it looks like we've got some data here.\n",
    "Hopefully, it is clear that there are two separate behaviours going on.\n",
    "Now we'd like to see if we can get the computer to identify this too.\n",
    "\n",
    "In modelling terms, we know ourselves that for $0 \\leq d \\leq 50$ there is a lower rate of $\\lambda_1 = 10$, and that for $50 \\leq d \\leq 100$ there is a higher rate of $\\lambda_2 = 50$ - we want to see if we can automate the process by which we identify $\\lambda_1$ and $\\lambda_2$, and furthermore identify  the time, $\\tau = 50$, at which this change happens."
   ]
  },
  {
   "cell_type": "code",
   "execution_count": null,
   "metadata": {},
   "outputs": [],
   "source": []
  }
 ],
 "metadata": {
  "kernelspec": {
   "display_name": "Python 3",
   "language": "python",
   "name": "python3"
  },
  "language_info": {
   "codemirror_mode": {
    "name": "ipython",
    "version": 3
   },
   "file_extension": ".py",
   "mimetype": "text/x-python",
   "name": "python",
   "nbconvert_exporter": "python",
   "pygments_lexer": "ipython3",
   "version": "3.7.1"
  }
 },
 "nbformat": 4,
 "nbformat_minor": 2
}
