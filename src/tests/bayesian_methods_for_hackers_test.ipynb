{
 "cells": [
  {
   "cell_type": "markdown",
   "metadata": {},
   "source": [
    "# BM4H"
   ]
  },
  {
   "cell_type": "markdown",
   "metadata": {},
   "source": [
    "This is a notebook to try something like what they did in [Bayesian Methods for Hackers](https://github.com/CamDavidsonPilon/Probabilistic-Programming-and-Bayesian-Methods-for-Hackers/blob/master/Chapter1_Introduction/Ch1_Introduction_PyMC3.ipynb)."
   ]
  },
  {
   "cell_type": "markdown",
   "metadata": {},
   "source": [
    "## Imports"
   ]
  },
  {
   "cell_type": "code",
   "execution_count": 1,
   "metadata": {},
   "outputs": [],
   "source": [
    "import matplotlib.pyplot as plt\n",
    "import numpy as np\n",
    "import pandas as pd\n",
    "import pymc3 as pm\n",
    "import theano.tensor as tt"
   ]
  },
  {
   "cell_type": "code",
   "execution_count": 2,
   "metadata": {},
   "outputs": [],
   "source": [
    "%matplotlib inline"
   ]
  },
  {
   "cell_type": "markdown",
   "metadata": {},
   "source": [
    "## Making data"
   ]
  },
  {
   "cell_type": "markdown",
   "metadata": {},
   "source": [
    "Just to get things started, I'm going to construct two series of data.\n",
    "Each of these series will be sampled from a respective Poisson distribution, each with different rate, $\\lambda$.\n",
    "The two datasets will then be spliced together."
   ]
  },
  {
   "cell_type": "code",
   "execution_count": 3,
   "metadata": {},
   "outputs": [],
   "source": [
    "# Constants\n",
    "RATE_A = 10\n",
    "RATE_B = 50\n",
    "LENGTH_A = 50\n",
    "LENGTH_B = 50"
   ]
  },
  {
   "cell_type": "code",
   "execution_count": 4,
   "metadata": {},
   "outputs": [],
   "source": [
    "# Derived values\n",
    "START_A = 0\n",
    "END_A = START_A + LENGTH_A\n",
    "START_B = LENGTH_A\n",
    "END_B = START_B + LENGTH_B"
   ]
  },
  {
   "cell_type": "code",
   "execution_count": 5,
   "metadata": {},
   "outputs": [],
   "source": [
    "def generate_data(rate, start, end):\n",
    "    \"\"\"\n",
    "    A function to generate some data based on a Poisson distribution.\n",
    "    Params:\n",
    "        rate: the rate, lambda for the Poisson distribution.\n",
    "        start: the start point for the data.\n",
    "        end: the end point for the data.\n",
    "    Returns:\n",
    "        dataframe: a dat array of Poisson distributed samples.\n",
    "    \"\"\"\n",
    "    data = pd.DataFrame()\n",
    "    data['day'] = np.arange(start, end)\n",
    "    data['vals'] = np.random.poisson(rate, end-start)\n",
    "    return data"
   ]
  },
  {
   "cell_type": "code",
   "execution_count": 6,
   "metadata": {},
   "outputs": [],
   "source": [
    "part_a = generate_data(RATE_A, START_A, END_A)"
   ]
  },
  {
   "cell_type": "code",
   "execution_count": 7,
   "metadata": {},
   "outputs": [],
   "source": [
    "def plot_data(data):\n",
    "    \"\"\"\n",
    "    A quick function to plot the data with the appropriate labels.\n",
    "    \"\"\"\n",
    "    plt.figure(figsize=(8,8))\n",
    "    plt.bar(data['day'], data['vals'])\n",
    "    plt.xlabel('day')\n",
    "    plt.ylabel('value')\n",
    "    plt.show()"
   ]
  },
  {
   "cell_type": "code",
   "execution_count": 8,
   "metadata": {},
   "outputs": [
    {
     "data": {
      "image/png": "[encoded data removed]",
      "text/plain": [
       "<Figure size 576x576 with 1 Axes>"
      ]
     },
     "metadata": {
      "needs_background": "light"
     },
     "output_type": "display_data"
    }
   ],
   "source": [
    "plot_data(part_a)"
   ]
  },
  {
   "cell_type": "code",
   "execution_count": 9,
   "metadata": {},
   "outputs": [],
   "source": [
    "part_b = generate_data(RATE_B, START_B, END_B)"
   ]
  },
  {
   "cell_type": "code",
   "execution_count": 10,
   "metadata": {},
   "outputs": [
    {
     "data": {
      "image/png": "[encoded data removed]",
      "text/plain": [
       "<Figure size 576x576 with 1 Axes>"
      ]
     },
     "metadata": {
      "needs_background": "light"
     },
     "output_type": "display_data"
    }
   ],
   "source": [
    "plot_data(part_b)"
   ]
  },
  {
   "cell_type": "code",
   "execution_count": 11,
   "metadata": {},
   "outputs": [],
   "source": [
    "data = pd.concat([part_a, part_b])"
   ]
  },
  {
   "cell_type": "code",
   "execution_count": 12,
   "metadata": {},
   "outputs": [
    {
     "data": {
      "image/png": "[encoded data removed]",
      "text/plain": [
       "<Figure size 576x576 with 1 Axes>"
      ]
     },
     "metadata": {
      "needs_background": "light"
     },
     "output_type": "display_data"
    }
   ],
   "source": [
    "plot_data(data)"
   ]
  },
  {
   "cell_type": "markdown",
   "metadata": {},
   "source": [
    "Ok, so it looks like we've got some data here.\n",
    "Hopefully, it is clear that there are two separate behaviours going on.\n",
    "Now we'd like to see if we can get the computer to identify this too."
   ]
  },
  {
   "cell_type": "markdown",
   "metadata": {},
   "source": [
    "## Modelling"
   ]
  },
  {
   "cell_type": "markdown",
   "metadata": {},
   "source": [
    "In modelling terms, we know ourselves that for $0 \\leq d \\leq 50$ there is a lower rate of $\\lambda_1 = 10$, and that for $50 \\leq d \\leq 100$ there is a higher rate of $\\lambda_2 = 50$ - we want to see if we can automate the process by which we identify $\\lambda_1$ and $\\lambda_2$, and furthermore identify  the time, $\\tau = 50$, at which this change happens.\n",
    "\n",
    "The plan, therefore, is to infer from the data, what the values of $\\lambda_1$, $\\lambda_2$ and $\\tau$ are.\n",
    "To do this under a Bayesian framework, we need to prescribe prior probabilities to each of them.\n",
    "\n",
    "Let us start of with an educated guess that the rates, $\\lambda_1, \\lambda_2$, are drawn from their own respective exponential distributions:\n",
    "\n",
    "$$\n",
    "    \\lambda_1 \\sim Exp(\\alpha_1),\n",
    "$$\n",
    "$$\n",
    "    \\lambda_2 \\sim Exp(\\alpha_2).\n",
    "$$\n",
    "\n",
    "Here we say that $\\alpha_1, \\alpha_2$ are hyperparameters, i.e. they are parameters that influence other parameters.\n",
    "To simplify this even further, we are going to initially guess that the two rates are drawn from distributions with the same $\\alpha$, which we will calculate as the inverse of the average daily count.\n",
    "\n",
    "Our next educated guess is the day on which the change in behaviour occurs is uniformly distributed over the total time period, i.e.\n",
    "\n",
    "$$\n",
    "    \\tau \\sim DiscrUnif(0,100)\n",
    "$$"
   ]
  },
  {
   "cell_type": "markdown",
   "metadata": {},
   "source": [
    "Now let's get started with some modelling using PyMC3!"
   ]
  },
  {
   "cell_type": "markdown",
   "metadata": {},
   "source": [
    "Note that to do this, I have set up a virtual environment for this project called `python-pymc3`:\n",
    "\n",
    "1. `conda create -n python-pymc3`\n",
    "2. `conda install nb_conda`\n",
    "3. `conda install -c conda-forge theano`\n",
    "4. `conda install pymc3`\n",
    "\n",
    "Step 3 gets `theano v1.0.4` which is compatible with the current state of `numpy`."
   ]
  },
  {
   "cell_type": "code",
   "execution_count": 13,
   "metadata": {},
   "outputs": [],
   "source": [
    "# Calculate initial alpha\n",
    "alpha = 1.0 / data['vals'].mean()"
   ]
  },
  {
   "cell_type": "code",
   "execution_count": 14,
   "metadata": {},
   "outputs": [],
   "source": [
    "with pm.Model() as model:\n",
    "    # Make lambda_1 and lambda_2 based on exp distributions\n",
    "    lambda_1 = pm.Exponential(\"lambda_1\", alpha)\n",
    "    lambda_2 = pm.Exponential(\"lambda_2\", alpha)\n",
    "    \n",
    "    # Make tau based on a discrete uniform distribution\n",
    "    tau = pm.DiscreteUniform(\"tau\",\n",
    "                             lower=START_A,\n",
    "                             upper=END_B)"
   ]
  },
  {
   "cell_type": "markdown",
   "metadata": {},
   "source": [
    "What does this bit do?\n",
    "Well we have created three probabilistic variables in the context of our model.\n",
    "These variables can be though of as probability distributions instead of as fixed single values."
   ]
  },
  {
   "cell_type": "code",
   "execution_count": 15,
   "metadata": {},
   "outputs": [],
   "source": [
    "with model:\n",
    "    # Create an array of indices\n",
    "    idx = np.arange(END_B)\n",
    "    # Create a variable which is lambda_1 before tau, else lambda_2\n",
    "    lambda_ = pm.math.switch(tau > idx, lambda_1, lambda_2)"
   ]
  },
  {
   "cell_type": "code",
   "execution_count": 16,
   "metadata": {},
   "outputs": [],
   "source": [
    "with model:\n",
    "    # Create a variable to represent our data\n",
    "    observation = pm.Poisson(\"obs\", lambda_, observed=data['vals'])"
   ]
  },
  {
   "cell_type": "code",
   "execution_count": 17,
   "metadata": {},
   "outputs": [
    {
     "name": "stderr",
     "output_type": "stream",
     "text": [
      "Multiprocess sampling (2 chains in 2 jobs)\n",
      "CompoundStep\n",
      ">Metropolis: [tau]\n",
      ">Metropolis: [lambda_2]\n",
      ">Metropolis: [lambda_1]\n",
      "Sampling 2 chains: 100%|██████████| 30000/30000 [00:17<00:00, 1679.51draws/s]\n",
      "The number of effective samples is smaller than 25% for some parameters.\n"
     ]
    }
   ],
   "source": [
    "with model:\n",
    "    step = pm.Metropolis()\n",
    "    trace = pm.sample(10000, tune=5000,step=step)"
   ]
  },
  {
   "cell_type": "code",
   "execution_count": 18,
   "metadata": {},
   "outputs": [],
   "source": [
    "lambda_1_samples = trace['lambda_1']\n",
    "lambda_2_samples = trace['lambda_2']\n",
    "tau_samples = trace['tau']"
   ]
  },
  {
   "cell_type": "code",
   "execution_count": 25,
   "metadata": {},
   "outputs": [
    {
     "data": {
      "text/plain": [
       "array([50, 50, 50, ..., 50, 50, 50])"
      ]
     },
     "execution_count": 25,
     "metadata": {},
     "output_type": "execute_result"
    }
   ],
   "source": [
    "tau_samples"
   ]
  },
  {
   "cell_type": "code",
   "execution_count": 39,
   "metadata": {},
   "outputs": [
    {
     "data": {
      "image/png": "[encoded data removed]",
      "text/plain": [
       "<Figure size 864x864 with 2 Axes>"
      ]
     },
     "metadata": {
      "needs_background": "light"
     },
     "output_type": "display_data"
    }
   ],
   "source": [
    "plt.figure(figsize=(12, 12))\n",
    "\n",
    "ax = plt.subplot(211)\n",
    "\n",
    "plt.hist(lambda_1_samples, alpha=0.85,\n",
    "         label=\"posterior of $\\lambda_1$\",\n",
    "         color=\"#A60628\", density=True)\n",
    "\n",
    "plt.hist(lambda_2_samples, alpha=0.85,\n",
    "         label=\"posterior of $\\lambda_2$\",\n",
    "         color=\"#7A68A6\", density=True)\n",
    "\n",
    "plt.legend(loc=\"upper left\")\n",
    "\n",
    "plt.xlim([0, 60])\n",
    "plt.xlabel(\"$\\lambda$\")\n",
    "plt.ylabel(\"probability\")\n",
    "\n",
    "plt.subplot(212)\n",
    "w = 1.0 / tau_samples.shape[0] * np.ones_like(tau_samples)\n",
    "plt.hist(tau_samples, bins=END_B, alpha=1,\n",
    "         label=r\"posterior of $\\tau$\",\n",
    "         color=\"#467821\", weights=w)\n",
    "\n",
    "plt.legend(loc=\"upper left\")\n",
    "plt.xlabel(r\"$\\tau$\")\n",
    "plt.ylabel(\"probability\")\n",
    "\n",
    "plt.show()"
   ]
  }
 ],
 "metadata": {
  "kernelspec": {
   "display_name": "Python 3",
   "language": "python",
   "name": "python3"
  },
  "language_info": {
   "codemirror_mode": {
    "name": "ipython",
    "version": 3
   },
   "file_extension": ".py",
   "mimetype": "text/x-python",
   "name": "python",
   "nbconvert_exporter": "python",
   "pygments_lexer": "ipython3",
   "version": "3.7.3"
  }
 },
 "nbformat": 4,
 "nbformat_minor": 2
}
